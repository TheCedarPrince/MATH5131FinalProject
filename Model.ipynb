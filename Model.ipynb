{
 "cells": [
  {
   "cell_type": "code",
   "execution_count": null,
   "id": "96ca721f",
   "metadata": {},
   "outputs": [],
   "source": [
    "from sklearn.model_selection import train_test_split\n",
    "from sklearn.linear_model import LogisticRegression\n",
    "from sklearn.preprocessing import OneHotEncoder\n",
    "from sklearn.compose import ColumnTransformer\n",
    "from sklearn.pipeline import Pipeline\n",
    "from sklearn.metrics import accuracy_score\n",
    "import pandas as pd"
   ]
  },
  {
   "cell_type": "code",
   "execution_count": null,
   "id": "0f1a9181",
   "metadata": {},
   "outputs": [],
   "source": [
    "# Read data from Excel file into a Pandas DataFrame\n",
    "file_path = 'dm_mimic_pathways.csv'\n",
    "df = pd.read_csv(file_path)"
   ]
  },
  {
   "cell_type": "code",
   "execution_count": null,
   "id": "a651c7a6",
   "metadata": {},
   "outputs": [],
   "source": [
    "column_name_mapping = {'person_id': 'Person',\n",
    "                       'race_concept_id': 'Race',\n",
    "                       'gender_concept_id':'Gender',\n",
    "                       'age_group':'Age Group',\n",
    "                       'pathways':'Treatment Regimen'}\n",
    "\n",
    "race_mapping = {8527: 'White/ Hispanic',\n",
    "                8516: 'Black',\n",
    "                8515: 'Asian', \n",
    "                0:'Unknown',\n",
    "                38003592: 'Asian',\n",
    "                4077359: 'Other',\n",
    "                4218674: 'Unknown',\n",
    "                4188159: 'White/ Hispanic',\n",
    "                38003599: 'Black',\n",
    "                38003574: 'Asian',\n",
    "                4212311: 'Asian',\n",
    "                38003600: 'Black',\n",
    "                8557: 'Other',\n",
    "                38003584: 'Asian',\n",
    "                38003578: 'Asian',\n",
    "                4087921: 'Other',\n",
    "                38003615: 'Other',\n",
    "                38003581: 'Asian',\n",
    "                8657: 'Other',\n",
    "                38003579: 'Asian',\n",
    "                38003605: 'Black',\n",
    "                38003614: 'White',\n",
    "                4213463: 'White'}\n",
    "\n",
    "gender_mapping = {8507: 'Male',\n",
    "                  8532: 'Female'}\n",
    "\n",
    "age_mapping = {'10 - 19': 'Teens',\n",
    "               '20 - 29': 'Twenties',\n",
    "               '30 - 39': 'Thirties',\n",
    "               '40 - 49': 'Forties',\n",
    "               '50 - 59': 'Fifties',\n",
    "               '60 - 69': 'Sixties',\n",
    "               '70 - 79': 'Seventies',\n",
    "               '80 - 89': 'Eighties',\n",
    "              '> 90': 'Nineties'}"
   ]
  },
  {
   "cell_type": "code",
   "execution_count": null,
   "id": "6a30deb9",
   "metadata": {},
   "outputs": [],
   "source": [
    "df = df.rename(columns=column_name_mapping)\n",
    "df['Race'] = df['Race'].replace(race_mapping)\n",
    "df['Gender'] = df['Gender'].replace(gender_mapping)\n",
    "df['Age Group'] = df['Age Group'].replace(age_mapping)\n",
    "df['Age Group'].fillna('Unknown', inplace=True)"
   ]
  },
  {
   "cell_type": "code",
   "execution_count": null,
   "id": "ecf43de0",
   "metadata": {},
   "outputs": [],
   "source": [
    "df = df[(df['Age Group'] != 'Unknown') & (df['Race'] != 'Unknown')]"
   ]
  },
  {
   "cell_type": "code",
   "execution_count": null,
   "id": "0c62da8a",
   "metadata": {},
   "outputs": [],
   "source": [
    "print(len(df))\n",
    "n = 10\n",
    "values_to_preserve = df['Treatment Regimen'].value_counts().head(n)\n",
    "print(values_to_preserve)"
   ]
  },
  {
   "cell_type": "code",
   "execution_count": null,
   "id": "983918e3",
   "metadata": {},
   "outputs": [],
   "source": [
    "def preserve_or_change(value, value_set, replacement_value):\n",
    "    return value if value in value_set else replacement_value"
   ]
  },
  {
   "cell_type": "code",
   "execution_count": null,
   "id": "24a5d2e8",
   "metadata": {},
   "outputs": [],
   "source": [
    "df['Treatment Regimen'] = df['Treatment Regimen'].apply(lambda x: preserve_or_change(x, values_to_preserve, 'Other'))\n",
    "df.head(5)\n",
    "len(df['Treatment Regimen'].unique())"
   ]
  },
  {
   "cell_type": "code",
   "execution_count": null,
   "id": "508bc334",
   "metadata": {},
   "outputs": [],
   "source": [
    "X = df[['Age Group', 'Race', 'Gender']]\n",
    "y = df['Treatment Regimen']"
   ]
  },
  {
   "cell_type": "code",
   "execution_count": null,
   "id": "9976de45",
   "metadata": {},
   "outputs": [],
   "source": [
    "preprocessor = ColumnTransformer(\n",
    "    transformers=[\n",
    "            ('cat', OneHotEncoder(), ['Age Group', 'Race', 'Gender'])\n",
    "        ],\n",
    "        remainder='passthrough'\n",
    "    \n",
    ")\n",
    "pipeline = Pipeline([\n",
    "    ('preprocessor', preprocessor),\n",
    "    ('classifier', LogisticRegression(multi_class='multinomial', class_weight = 'balanced'))\n",
    "])"
   ]
  },
  {
   "cell_type": "code",
   "execution_count": null,
   "id": "fc5badcb",
   "metadata": {},
   "outputs": [],
   "source": [
    "# Split the data into training and testing sets\n",
    "X_train, X_test, y_train, y_test = train_test_split(X, y, test_size=0.2, random_state=42)"
   ]
  },
  {
   "cell_type": "code",
   "execution_count": null,
   "id": "857281ef",
   "metadata": {},
   "outputs": [],
   "source": [
    "# Train the model\n",
    "pipeline.fit(X_train, y_train)"
   ]
  },
  {
   "cell_type": "code",
   "execution_count": null,
   "id": "b384595a",
   "metadata": {},
   "outputs": [],
   "source": [
    "# Make predictions on the test set\n",
    "y_pred = pipeline.predict(X_test)\n",
    "\n",
    "# Evaluate the accuracy\n",
    "accuracy = accuracy_score(y_test, y_pred)\n",
    "print(f'Accuracy: {accuracy:.2f}')\n",
    "\n",
    "# Create a DataFrame with actual and predicted values\n",
    "df_predictions = pd.DataFrame({\n",
    "    'Actual': y_test,\n",
    "    'Predicted': y_pred\n",
    "})\n",
    "\n",
    "print(\"Actual vs Predicted:\")\n",
    "print(df_predictions)"
   ]
  },
  {
   "cell_type": "code",
   "execution_count": null,
   "id": "e4156cb8",
   "metadata": {},
   "outputs": [],
   "source": [
    "# Access the one-hot encoder from the pipeline\n",
    "encoder = pipeline.named_steps['preprocessor'].named_transformers_['cat']\n",
    "\n",
    "# Get feature names after one-hot encoding\n",
    "feature_names_after_encoding = list(encoder.get_feature_names_out(X.select_dtypes(include=['object']).columns))\n",
    "\n",
    "# Concatenate feature names with numeric features\n",
    "all_feature_names = X.select_dtypes(include=['number']).columns.tolist() + feature_names_after_encoding\n",
    "\n",
    "# Access the model from the pipeline\n",
    "model = pipeline.named_steps['classifier']\n",
    "\n",
    "# Get coefficients\n",
    "coefficients = model.coef_\n",
    "\n",
    "# Display coefficients in a DataFrame\n",
    "df_coefficients = pd.DataFrame(coefficients, columns=all_feature_names)\n",
    "df_coefficients['Intercept'] = model.intercept_\n",
    "df_coefficients['Class'] = model.classes_\n",
    "df_coefficients.set_index('Class', inplace=True)\n",
    "\n",
    "print(\"Coefficients:\")\n",
    "print(df_coefficients)"
   ]
  }
 ],
 "metadata": {
  "kernelspec": {
   "display_name": "Python 3 (ipykernel)",
   "language": "python",
   "name": "python3"
  },
  "language_info": {
   "codemirror_mode": {
    "name": "ipython",
    "version": 3
   },
   "file_extension": ".py",
   "mimetype": "text/x-python",
   "name": "python",
   "nbconvert_exporter": "python",
   "pygments_lexer": "ipython3",
   "version": "3.10.13"
  }
 },
 "nbformat": 4,
 "nbformat_minor": 5
}
