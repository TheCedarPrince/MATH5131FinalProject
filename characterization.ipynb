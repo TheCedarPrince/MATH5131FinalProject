{
  "cells": [
    {
      "cell_type": "markdown",
      "source": [
        "# Exploring Patient Treatment Pathways\n\n## Required Packages\n\nHere are the packages we will need for exploring patient pathways grouped by primary use cases in this exploration:\n\n- Interfacing with databases\n\n    * [`DBInterface.jl`](https://github.com/JuliaDatabases/DBInterface.jl) - Database interface definitions for Julia\n\n    * [`SQLite`](https://github.com/JuliaDatabases/SQLite.jl) - A Julia interface to the SQLite library\n\n- Health analytics built specifically for working with OMOP CDM databases\n\n    * [`OHDSICohortExpressions.jl`](https://github.com/MechanicalRabbit/OHDSICohortExpressions.jl) - Implementation of a conversion from the JSON cohort definitions used in the OHDSI ecosystem into an SQL transaction.\n\n    * [`OMOPCDMCohortCreator.jl`](https://github.com/JuliaHealth/OMOPCDMCohortCreator.jl) - Create cohorts from databases utilizing the OMOP CDM\n\n- General data analytics tools\n\n    * [`DataFrames.jl`](https://github.com/JuliaData/DataFrames.jl) - In-memory tabular data in Julia\n\n- Miscellaneous packages\n\n    * [`HealthSampleData.jl`](https://github.com/JuliaHealth/HealthSampleData.jl) - Sample health data for a variety of health formats and use cases\n\n    * [`Random`](https://docs.julialang.org/en/v1/stdlib/Random/#Random-Numbers) - Support for generating random numbers\n\n## Interfacing with Synthetic OMOP CDM Database\n\nTo start with, we will need to download a synthetic patient database in the OMOP CDM format called _Eunomia_.\nWe can download it onto your computer from the `HealthSampleData.jl` package by executing the next cell:"
      ],
      "metadata": {}
    },
    {
      "outputs": [],
      "cell_type": "code",
      "source": [
        "import HealthSampleData: \n    Eunomia\n\nENV[\"DATADEPS_ALWAYS_ACCEPT\"] = true\neunomia = Eunomia()"
      ],
      "metadata": {},
      "execution_count": null
    },
    {
      "cell_type": "markdown",
      "source": [
        "Then, by passing the path of where the SQLite database is on your computer (given by the `Eunomia()` command), we can create a database connection to the database as follows:"
      ],
      "metadata": {}
    },
    {
      "outputs": [],
      "cell_type": "code",
      "source": [
        "import SQLite:\n    DB\n\nconn = DB(eunomia);"
      ],
      "metadata": {},
      "execution_count": null
    },
    {
      "cell_type": "markdown",
      "source": [
        "## Constructing an Initial Patient Cohort\n\nNext, we can build a cohort of patients who match a phenotype definition of a disease.\nAny such definitions have been defined using the [ATLAS tool](https://atlas-demo.ohdsi.org) and these definitions can be transformed by `OHDSICohortExpressions.jl` into a SQL statement.\nWe can read and pass a given definition to `OHDSICohortExpressions.jl` as follows:"
      ],
      "metadata": {}
    },
    {
      "outputs": [],
      "cell_type": "code",
      "source": [
        "# TODO: Change to diabetes cohort\nimport OHDSICohortExpressions: \n    translate, \n    Model\n\ncohort_expression = read(\"strep_throat.json\", String)\n\n#= \n\nThis defines where patients matching our disease \ndefinition get put.\nIn this case, to the database schema called \n\"main\" and the target table called \"cohort\"\n\n=#\nmodel = Model(cdm_version = v\"5.3.1\", \n              cdm_schema = \"main\",\n              vocabulary_schema = \"main\", \n              results_schema = \"main\",\n              target_schema = \"main\",\n              target_table = \"cohort\");\n\n#= \n\nWe execute our disease definition here against the \ndatabase and create a patient cohort \nassociated to the ID, 1.\n\n=#\nsql = translate(cohort_expression, \n                dialect = :sqlite, \n                model = model,\n                cohort_definition_id = 1);"
      ],
      "metadata": {},
      "execution_count": null
    },
    {
      "cell_type": "markdown",
      "source": [
        "Taking the SQL that was prepared by `OHDSICohortExpressions.jl`, we can now construct our cohort of patients that match our particular definition of interest.\nWe can do this using the package, `DBInterface`:"
      ],
      "metadata": {}
    },
    {
      "outputs": [],
      "cell_type": "code",
      "source": [
        "import DBInterface:\n    execute \n\nfor query in split(sql, \";\")[1:end-1]\n    execute(conn, query)\nend"
      ],
      "metadata": {},
      "execution_count": null
    },
    {
      "cell_type": "markdown",
      "source": [
        "## Exploring the Patient Cohort with `OMOPCDMCohortCreator.jl`\n\n### Finding Patients Belonging To Our Cohort\n\nWith database details defined, we can now fully explore the patient cohort we have defined using `OMOPCDMCohortCreator.jl` (I'll refer to this as `occ` from now on).\nThis next cell performs all the set-up required by `occ` -- you'll see some informational messages pop up which means that this worked successfully:"
      ],
      "metadata": {}
    },
    {
      "outputs": [],
      "cell_type": "code",
      "source": [
        "import OMOPCDMCohortCreator as occ\n\n# Defines what kind of database occ is connecting to\nocc.GenerateDatabaseDetails(\n    :sqlite,\n    \"main\"\n)\n\n#= \n\nGenerates internal representation of what tables are \navailable for occ to operate upon\n\n=#\nocc.GenerateTables(conn)"
      ],
      "metadata": {},
      "execution_count": null
    },
    {
      "cell_type": "markdown",
      "source": [
        "Now we can pull our cohort that matches our disease definition of interest from the database's `cohort` table and store it within a `DataFrame` using `DataFrames.jl`:"
      ],
      "metadata": {}
    },
    {
      "outputs": [],
      "cell_type": "code",
      "source": [
        "import DataFrames as DF\n\nquery_results = execute(conn, \n    \"\"\"\n    SELECT \n        subject_id AS person_id \n    FROM \n        cohort \n    WHERE \n        cohort_definition_id = 1;\n    \"\"\") \n\n# C represents the cohort\nC = DF.DataFrame(query_results)"
      ],
      "metadata": {},
      "execution_count": null
    },
    {
      "cell_type": "markdown",
      "source": [
        "### Initial Characterization of Our Cohort\n\nNow, we can choose what cofactors we want to explore within our population and iteratively build up the dataset we want to explore.\nIn this case, we can build a dataset that characterizes over race, gender, and age group:"
      ],
      "metadata": {}
    },
    {
      "outputs": [],
      "cell_type": "code",
      "source": [
        "C_race = occ.GetPatientRace(C.person_id, conn)\nC_gender = occ.GetPatientGender(C.person_id, conn)\nC_age_group = occ.GetPatientAgeGroup(C.person_id, conn)"
      ],
      "metadata": {},
      "execution_count": null
    },
    {
      "cell_type": "markdown",
      "source": [
        "We can group these factors together into one DataFrame:"
      ],
      "metadata": {}
    },
    {
      "outputs": [],
      "cell_type": "code",
      "source": [
        "C_characterized = DF.outerjoin(C_race,\n                               C_gender,\n                               C_age_group;\n                               on = :person_id, \n                               matchmissing = :equal)"
      ],
      "metadata": {},
      "execution_count": null
    },
    {
      "cell_type": "markdown",
      "source": [
        "### Final Grouping and Removal of Personal Identifiers\n\nFinally, we can remove personal identifiers for each patient by removing the `person_id` feature of our dataset."
      ],
      "metadata": {}
    },
    {
      "outputs": [],
      "cell_type": "code",
      "source": [
        "C_characterized = C_characterized[:, DF.Not(:person_id)]"
      ],
      "metadata": {},
      "execution_count": null
    },
    {
      "cell_type": "markdown",
      "source": [
        "Then doing a final grouping, we can find how many patients belong to what patient grouping based on the characteristics we explored:"
      ],
      "metadata": {}
    },
    {
      "outputs": [],
      "cell_type": "code",
      "source": [
        "C_groups = DF.groupby(C_characterized, \n                      [:race_concept_id, \n                       :gender_concept_id, \n                       :age_group]\n                     )\nC_final = DF.combine(C_groups, DF.nrow => :count)"
      ],
      "metadata": {},
      "execution_count": null
    }
  ],
  "nbformat_minor": 2,
  "metadata": {
    "language_info": {
      "file_extension": ".jl",
      "mimetype": "application/julia",
      "name": "julia",
      "version": "1.9.3"
    },
    "kernelspec": {
      "name": "julia-1.9",
      "display_name": "Julia 1.9.3",
      "language": "julia"
    }
  },
  "nbformat": 4
}
